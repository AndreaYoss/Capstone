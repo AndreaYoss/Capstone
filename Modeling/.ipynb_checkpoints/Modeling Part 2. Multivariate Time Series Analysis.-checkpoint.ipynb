{
 "cells": [
  {
   "cell_type": "markdown",
   "metadata": {},
   "source": [
    "# Modeling Part 2. Multivariate Time Series Analysis."
   ]
  },
  {
   "cell_type": "markdown",
   "metadata": {},
   "source": [
    "## Table of Contents\n",
    "- [Importing Necessary Libraries & Loading Data](#Importing-Necessary-Libraries-&-Loading-Dsta)\n",
    "- [Modeling](#Modeling)"
   ]
  },
  {
   "cell_type": "markdown",
   "metadata": {},
   "source": [
    "## Importing Necessary Libraries & Loading Data"
   ]
  },
  {
   "cell_type": "code",
   "execution_count": 16,
   "metadata": {},
   "outputs": [],
   "source": [
    "import pandas as pd\n",
    "import pandas as pd\n",
    "import numpy as np\n",
    "import matplotlib.pyplot as plt\n",
    "import statsmodels.api as sm\n",
    "\n",
    "\n",
    "from datetime import datetime\n",
    "\n",
    "import seaborn as sns\n",
    "%matplotlib inline\n",
    "\n",
    "from sklearn.model_selection import train_test_split\n",
    "\n",
    "from statsmodels.tsa.seasonal import seasonal_decompose\n",
    "from statsmodels.graphics.tsaplots import plot_acf, plot_pacf\n",
    "from statsmodels.tsa.stattools import adfuller\n",
    "from statsmodels.tsa.arima_model import ARIMA\n",
    "from statsmodels.tsa.statespace.sarimax import SARIMAX\n",
    "from sklearn.metrics import mean_squared_error, mean_absolute_error, r2_score\n",
    "\n",
    "import pmdarima as pm\n",
    "\n",
    "# This will allow us to avoid a FutureWarning when plotting.\n",
    "from pandas.plotting import register_matplotlib_converters\n",
    "register_matplotlib_converters()\n",
    "\n",
    "from warnings import catch_warnings\n",
    "from warnings import filterwarnings\n",
    "import warnings\n",
    "\n",
    "warnings.simplefilter(action=\"ignore\")"
   ]
  },
  {
   "cell_type": "code",
   "execution_count": 17,
   "metadata": {},
   "outputs": [
    {
     "data": {
      "text/html": [
       "<div>\n",
       "<style scoped>\n",
       "    .dataframe tbody tr th:only-of-type {\n",
       "        vertical-align: middle;\n",
       "    }\n",
       "\n",
       "    .dataframe tbody tr th {\n",
       "        vertical-align: top;\n",
       "    }\n",
       "\n",
       "    .dataframe thead th {\n",
       "        text-align: right;\n",
       "    }\n",
       "</style>\n",
       "<table border=\"1\" class=\"dataframe\">\n",
       "  <thead>\n",
       "    <tr style=\"text-align: right;\">\n",
       "      <th></th>\n",
       "      <th>DATE</th>\n",
       "      <th>Settlement Price</th>\n",
       "      <th>IA_TMIN_lag_72</th>\n",
       "      <th>IL_TMIN_lag_72</th>\n",
       "      <th>MN_TMIN_lag_72</th>\n",
       "      <th>IA_TMAX_lag_72</th>\n",
       "      <th>IL_TMAX_lag_72</th>\n",
       "      <th>MN_TMAX_lag_72</th>\n",
       "    </tr>\n",
       "  </thead>\n",
       "  <tbody>\n",
       "    <tr>\n",
       "      <th>0</th>\n",
       "      <td>1990-01-02</td>\n",
       "      <td>5.613</td>\n",
       "      <td>NaN</td>\n",
       "      <td>NaN</td>\n",
       "      <td>NaN</td>\n",
       "      <td>NaN</td>\n",
       "      <td>NaN</td>\n",
       "      <td>NaN</td>\n",
       "    </tr>\n",
       "    <tr>\n",
       "      <th>1</th>\n",
       "      <td>1990-01-03</td>\n",
       "      <td>5.673</td>\n",
       "      <td>NaN</td>\n",
       "      <td>NaN</td>\n",
       "      <td>NaN</td>\n",
       "      <td>NaN</td>\n",
       "      <td>NaN</td>\n",
       "      <td>NaN</td>\n",
       "    </tr>\n",
       "    <tr>\n",
       "      <th>2</th>\n",
       "      <td>1990-01-04</td>\n",
       "      <td>5.633</td>\n",
       "      <td>NaN</td>\n",
       "      <td>NaN</td>\n",
       "      <td>NaN</td>\n",
       "      <td>NaN</td>\n",
       "      <td>NaN</td>\n",
       "      <td>NaN</td>\n",
       "    </tr>\n",
       "    <tr>\n",
       "      <th>3</th>\n",
       "      <td>1990-01-05</td>\n",
       "      <td>5.645</td>\n",
       "      <td>NaN</td>\n",
       "      <td>NaN</td>\n",
       "      <td>NaN</td>\n",
       "      <td>NaN</td>\n",
       "      <td>NaN</td>\n",
       "      <td>NaN</td>\n",
       "    </tr>\n",
       "    <tr>\n",
       "      <th>4</th>\n",
       "      <td>1990-01-08</td>\n",
       "      <td>5.707</td>\n",
       "      <td>NaN</td>\n",
       "      <td>NaN</td>\n",
       "      <td>NaN</td>\n",
       "      <td>NaN</td>\n",
       "      <td>NaN</td>\n",
       "      <td>NaN</td>\n",
       "    </tr>\n",
       "  </tbody>\n",
       "</table>\n",
       "</div>"
      ],
      "text/plain": [
       "         DATE  Settlement Price  IA_TMIN_lag_72  IL_TMIN_lag_72  \\\n",
       "0  1990-01-02             5.613             NaN             NaN   \n",
       "1  1990-01-03             5.673             NaN             NaN   \n",
       "2  1990-01-04             5.633             NaN             NaN   \n",
       "3  1990-01-05             5.645             NaN             NaN   \n",
       "4  1990-01-08             5.707             NaN             NaN   \n",
       "\n",
       "   MN_TMIN_lag_72  IA_TMAX_lag_72  IL_TMAX_lag_72  MN_TMAX_lag_72  \n",
       "0             NaN             NaN             NaN             NaN  \n",
       "1             NaN             NaN             NaN             NaN  \n",
       "2             NaN             NaN             NaN             NaN  \n",
       "3             NaN             NaN             NaN             NaN  \n",
       "4             NaN             NaN             NaN             NaN  "
      ]
     },
     "execution_count": 17,
     "metadata": {},
     "output_type": "execute_result"
    }
   ],
   "source": [
    "data = pd.read_csv('../Data/Data_concat_clean.csv')\n",
    "data.head()"
   ]
  },
  {
   "cell_type": "markdown",
   "metadata": {},
   "source": [
    "Converting 'DATE' column to datetime format, setting it as the index, and sorting the dataframe ascending by date. "
   ]
  },
  {
   "cell_type": "code",
   "execution_count": 18,
   "metadata": {},
   "outputs": [
    {
     "data": {
      "text/html": [
       "<div>\n",
       "<style scoped>\n",
       "    .dataframe tbody tr th:only-of-type {\n",
       "        vertical-align: middle;\n",
       "    }\n",
       "\n",
       "    .dataframe tbody tr th {\n",
       "        vertical-align: top;\n",
       "    }\n",
       "\n",
       "    .dataframe thead th {\n",
       "        text-align: right;\n",
       "    }\n",
       "</style>\n",
       "<table border=\"1\" class=\"dataframe\">\n",
       "  <thead>\n",
       "    <tr style=\"text-align: right;\">\n",
       "      <th></th>\n",
       "      <th>Settlement Price</th>\n",
       "      <th>IA_TMIN_lag_72</th>\n",
       "      <th>IL_TMIN_lag_72</th>\n",
       "      <th>MN_TMIN_lag_72</th>\n",
       "      <th>IA_TMAX_lag_72</th>\n",
       "      <th>IL_TMAX_lag_72</th>\n",
       "      <th>MN_TMAX_lag_72</th>\n",
       "    </tr>\n",
       "    <tr>\n",
       "      <th>DATE</th>\n",
       "      <th></th>\n",
       "      <th></th>\n",
       "      <th></th>\n",
       "      <th></th>\n",
       "      <th></th>\n",
       "      <th></th>\n",
       "      <th></th>\n",
       "    </tr>\n",
       "  </thead>\n",
       "  <tbody>\n",
       "    <tr>\n",
       "      <th>1990-01-02</th>\n",
       "      <td>5.613</td>\n",
       "      <td>NaN</td>\n",
       "      <td>NaN</td>\n",
       "      <td>NaN</td>\n",
       "      <td>NaN</td>\n",
       "      <td>NaN</td>\n",
       "      <td>NaN</td>\n",
       "    </tr>\n",
       "    <tr>\n",
       "      <th>1990-01-03</th>\n",
       "      <td>5.673</td>\n",
       "      <td>NaN</td>\n",
       "      <td>NaN</td>\n",
       "      <td>NaN</td>\n",
       "      <td>NaN</td>\n",
       "      <td>NaN</td>\n",
       "      <td>NaN</td>\n",
       "    </tr>\n",
       "    <tr>\n",
       "      <th>1990-01-04</th>\n",
       "      <td>5.633</td>\n",
       "      <td>NaN</td>\n",
       "      <td>NaN</td>\n",
       "      <td>NaN</td>\n",
       "      <td>NaN</td>\n",
       "      <td>NaN</td>\n",
       "      <td>NaN</td>\n",
       "    </tr>\n",
       "    <tr>\n",
       "      <th>1990-01-05</th>\n",
       "      <td>5.645</td>\n",
       "      <td>NaN</td>\n",
       "      <td>NaN</td>\n",
       "      <td>NaN</td>\n",
       "      <td>NaN</td>\n",
       "      <td>NaN</td>\n",
       "      <td>NaN</td>\n",
       "    </tr>\n",
       "    <tr>\n",
       "      <th>1990-01-08</th>\n",
       "      <td>5.707</td>\n",
       "      <td>NaN</td>\n",
       "      <td>NaN</td>\n",
       "      <td>NaN</td>\n",
       "      <td>NaN</td>\n",
       "      <td>NaN</td>\n",
       "      <td>NaN</td>\n",
       "    </tr>\n",
       "    <tr>\n",
       "      <th>...</th>\n",
       "      <td>...</td>\n",
       "      <td>...</td>\n",
       "      <td>...</td>\n",
       "      <td>...</td>\n",
       "      <td>...</td>\n",
       "      <td>...</td>\n",
       "      <td>...</td>\n",
       "    </tr>\n",
       "    <tr>\n",
       "      <th>2019-12-24</th>\n",
       "      <td>9.365</td>\n",
       "      <td>70.0</td>\n",
       "      <td>69.0</td>\n",
       "      <td>51.0</td>\n",
       "      <td>86.0</td>\n",
       "      <td>93.0</td>\n",
       "      <td>68.0</td>\n",
       "    </tr>\n",
       "    <tr>\n",
       "      <th>2019-12-26</th>\n",
       "      <td>9.465</td>\n",
       "      <td>59.0</td>\n",
       "      <td>71.0</td>\n",
       "      <td>49.0</td>\n",
       "      <td>87.0</td>\n",
       "      <td>92.0</td>\n",
       "      <td>64.0</td>\n",
       "    </tr>\n",
       "    <tr>\n",
       "      <th>2019-12-27</th>\n",
       "      <td>9.415</td>\n",
       "      <td>66.0</td>\n",
       "      <td>51.0</td>\n",
       "      <td>53.0</td>\n",
       "      <td>88.0</td>\n",
       "      <td>95.0</td>\n",
       "      <td>84.0</td>\n",
       "    </tr>\n",
       "    <tr>\n",
       "      <th>2019-12-30</th>\n",
       "      <td>9.525</td>\n",
       "      <td>68.0</td>\n",
       "      <td>67.0</td>\n",
       "      <td>64.0</td>\n",
       "      <td>89.0</td>\n",
       "      <td>95.0</td>\n",
       "      <td>85.0</td>\n",
       "    </tr>\n",
       "    <tr>\n",
       "      <th>2019-12-31</th>\n",
       "      <td>9.555</td>\n",
       "      <td>68.0</td>\n",
       "      <td>63.0</td>\n",
       "      <td>66.0</td>\n",
       "      <td>87.0</td>\n",
       "      <td>90.0</td>\n",
       "      <td>87.0</td>\n",
       "    </tr>\n",
       "  </tbody>\n",
       "</table>\n",
       "<p>7559 rows × 7 columns</p>\n",
       "</div>"
      ],
      "text/plain": [
       "            Settlement Price  IA_TMIN_lag_72  IL_TMIN_lag_72  MN_TMIN_lag_72  \\\n",
       "DATE                                                                           \n",
       "1990-01-02             5.613             NaN             NaN             NaN   \n",
       "1990-01-03             5.673             NaN             NaN             NaN   \n",
       "1990-01-04             5.633             NaN             NaN             NaN   \n",
       "1990-01-05             5.645             NaN             NaN             NaN   \n",
       "1990-01-08             5.707             NaN             NaN             NaN   \n",
       "...                      ...             ...             ...             ...   \n",
       "2019-12-24             9.365            70.0            69.0            51.0   \n",
       "2019-12-26             9.465            59.0            71.0            49.0   \n",
       "2019-12-27             9.415            66.0            51.0            53.0   \n",
       "2019-12-30             9.525            68.0            67.0            64.0   \n",
       "2019-12-31             9.555            68.0            63.0            66.0   \n",
       "\n",
       "            IA_TMAX_lag_72  IL_TMAX_lag_72  MN_TMAX_lag_72  \n",
       "DATE                                                        \n",
       "1990-01-02             NaN             NaN             NaN  \n",
       "1990-01-03             NaN             NaN             NaN  \n",
       "1990-01-04             NaN             NaN             NaN  \n",
       "1990-01-05             NaN             NaN             NaN  \n",
       "1990-01-08             NaN             NaN             NaN  \n",
       "...                    ...             ...             ...  \n",
       "2019-12-24            86.0            93.0            68.0  \n",
       "2019-12-26            87.0            92.0            64.0  \n",
       "2019-12-27            88.0            95.0            84.0  \n",
       "2019-12-30            89.0            95.0            85.0  \n",
       "2019-12-31            87.0            90.0            87.0  \n",
       "\n",
       "[7559 rows x 7 columns]"
      ]
     },
     "execution_count": 18,
     "metadata": {},
     "output_type": "execute_result"
    }
   ],
   "source": [
    "data['DATE'] = pd.to_datetime(data['DATE'])\n",
    "data.set_index('DATE', inplace=True)\n",
    "data.sort_index(inplace=True)\n",
    "data"
   ]
  },
  {
   "cell_type": "markdown",
   "metadata": {},
   "source": [
    "Checking the variable datatypes to ensure all are of type float."
   ]
  },
  {
   "cell_type": "code",
   "execution_count": 19,
   "metadata": {},
   "outputs": [
    {
     "name": "stdout",
     "output_type": "stream",
     "text": [
      "<class 'pandas.core.frame.DataFrame'>\n",
      "DatetimeIndex: 7559 entries, 1990-01-02 to 2019-12-31\n",
      "Data columns (total 7 columns):\n",
      "Settlement Price    7559 non-null float64\n",
      "IA_TMIN_lag_72      7487 non-null float64\n",
      "IL_TMIN_lag_72      7487 non-null float64\n",
      "MN_TMIN_lag_72      7487 non-null float64\n",
      "IA_TMAX_lag_72      7487 non-null float64\n",
      "IL_TMAX_lag_72      7487 non-null float64\n",
      "MN_TMAX_lag_72      7487 non-null float64\n",
      "dtypes: float64(7)\n",
      "memory usage: 472.4 KB\n"
     ]
    }
   ],
   "source": [
    "data.info()"
   ]
  },
  {
   "cell_type": "markdown",
   "metadata": {},
   "source": [
    "Checking the nulls."
   ]
  },
  {
   "cell_type": "code",
   "execution_count": 20,
   "metadata": {},
   "outputs": [
    {
     "data": {
      "text/plain": [
       "MN_TMAX_lag_72      72\n",
       "IL_TMAX_lag_72      72\n",
       "IA_TMAX_lag_72      72\n",
       "MN_TMIN_lag_72      72\n",
       "IL_TMIN_lag_72      72\n",
       "IA_TMIN_lag_72      72\n",
       "Settlement Price     0\n",
       "dtype: int64"
      ]
     },
     "execution_count": 20,
     "metadata": {},
     "output_type": "execute_result"
    }
   ],
   "source": [
    "data.isnull().sum().sort_values(ascending=False)"
   ]
  },
  {
   "cell_type": "markdown",
   "metadata": {},
   "source": [
    "All null values in the dataframe are due to the seasonal time lags. We do not need to remove these nulls, as we will drop them during the modeling process."
   ]
  },
  {
   "cell_type": "markdown",
   "metadata": {},
   "source": [
    "## Modeling\n",
    "\n"
   ]
  },
  {
   "cell_type": "markdown",
   "metadata": {},
   "source": [
    "In this model, we are incorporating exogenous features into the SARIMA model we built in the [Modeling Part 1: Univariate Time Series Analysis](https://github.com/AndreaYoss/Capstone/blob/master/EDA/Modeling%20Part%201.%20Univariate%20Time%20Series%20Analysis..ipynb) notebook. We are building a SARIMAX model.\n",
    "  \n",
    "To start, we are seperating our dataframe into training and testing data. While we will have the same endogenous feature as our prior models ('Settlement Price'), we will also be including some likely external, exogenous features.  "
   ]
  },
  {
   "cell_type": "code",
   "execution_count": 21,
   "metadata": {},
   "outputs": [],
   "source": [
    "train_ex = data[data.index<'2017-01-01'].dropna()\n",
    "test_ex = data[data.index>='2017-01-01'].dropna()"
   ]
  },
  {
   "cell_type": "code",
   "execution_count": null,
   "metadata": {},
   "outputs": [],
   "source": [
    "sarimax = SARIMAX(endog = train_ex['Settlement Price'],\n",
    "                order = (4,1,4),\n",
    "                 seasonal_order = (1,0,0,72),\n",
    "                 exog = train_ex.drop(columns=['Settlement Price']))\n",
    "\n",
    "#fit SARIMAX model\n",
    "model = sarimax.fit()"
   ]
  },
  {
   "cell_type": "code",
   "execution_count": null,
   "metadata": {},
   "outputs": [],
   "source": [
    "preds = model.forecast(len(test_ex), \n",
    "               exog = test_ex.drop(columns = ['Settlement Price']),\n",
    "               step=1, \n",
    "               alpha = 0.05)\n",
    "        \n",
    "#evaluate predictions\n",
    "print(mean_absolute_error(test_ex['Settlement Price'], preds))"
   ]
  },
  {
   "cell_type": "code",
   "execution_count": null,
   "metadata": {},
   "outputs": [],
   "source": [
    "preds.index = test_ex.index"
   ]
  },
  {
   "cell_type": "code",
   "execution_count": null,
   "metadata": {
    "scrolled": true
   },
   "outputs": [],
   "source": [
    "#plot data\n",
    "plt.figure(figsize = (10,6))\n",
    "plt.plot(train_ex['Settlement Price'], color = 'blue')\n",
    "plt.plot(test_ex['Settlement Price'], color = 'orange')\n",
    "plt.plot(preds, color = 'green')\n",
    "plt.title(label = 'Av Daily Soybean Price with SARIMAX(4,1,4)X(1,0,0,72)')\n",
    "plt.show();"
   ]
  },
  {
   "cell_type": "code",
   "execution_count": null,
   "metadata": {},
   "outputs": [],
   "source": [
    "# Plot data.\n",
    "plt.figure(figsize=(10,6))\n",
    "plt.plot(test_ex['Settlement Price'], color = 'orange', label = 'Actual Prices')\n",
    "plt.plot(preds, color = 'green', label = 'SARIMAX Predicted Prices')\n",
    "plt.title(label = 'Daily Average Soybean Price with SARIMAX(4,1,4)(1,0,0,72) Predictions')\n",
    "\n",
    "# Plot Approx China Trade War Speculation \n",
    "#plt.axvline('2018-06', color = 'r', ls = '-.', label = 'China Trade War Speculation (Approx.)')\n",
    "\n",
    "plt.ylabel('Price (USD)', fontsize = 14)\n",
    "plt.xlabel('Date', fontsize = 14)\n",
    "plt.legend()\n",
    "plt.show();"
   ]
  }
 ],
 "metadata": {
  "kernelspec": {
   "display_name": "Python 3",
   "language": "python",
   "name": "python3"
  },
  "language_info": {
   "codemirror_mode": {
    "name": "ipython",
    "version": 3
   },
   "file_extension": ".py",
   "mimetype": "text/x-python",
   "name": "python",
   "nbconvert_exporter": "python",
   "pygments_lexer": "ipython3",
   "version": "3.7.4"
  }
 },
 "nbformat": 4,
 "nbformat_minor": 2
}
